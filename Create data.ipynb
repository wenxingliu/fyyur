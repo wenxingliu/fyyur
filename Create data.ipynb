{
 "cells": [
  {
   "cell_type": "code",
   "execution_count": 1,
   "metadata": {},
   "outputs": [
    {
     "name": "stderr",
     "output_type": "stream",
     "text": [
      "/Users/wenxingliu/anaconda3/lib/python3.6/site-packages/flask_sqlalchemy/__init__.py:834: FSADeprecationWarning: SQLALCHEMY_TRACK_MODIFICATIONS adds significant overhead and will be disabled by default in the future.  Set it to True or False to suppress this warning.\n",
      "  'SQLALCHEMY_TRACK_MODIFICATIONS adds significant overhead and '\n"
     ]
    }
   ],
   "source": [
    "from models import *"
   ]
  },
  {
   "cell_type": "code",
   "execution_count": 2,
   "metadata": {},
   "outputs": [],
   "source": [
    "import util as util"
   ]
  },
  {
   "cell_type": "markdown",
   "metadata": {},
   "source": [
    "Artist"
   ]
  },
  {
   "cell_type": "code",
   "execution_count": 10,
   "metadata": {},
   "outputs": [],
   "source": [
    "artist_data = [\n",
    "    {\n",
    "    \"name\": \"Guns N Petals\",\n",
    "    \"genres\": [\"Rock n Roll\"],\n",
    "    \"city\": \"San Francisco\",\n",
    "    \"state\": \"CA\",\n",
    "    \"phone\": \"326-123-5000\",\n",
    "    \"website\": \"https://www.gunsnpetalsband.com\",\n",
    "    \"facebook_link\": \"https://www.facebook.com/GunsNPetals\",\n",
    "    \"seeking_venue\": True,\n",
    "    \"seeking_description\": \"Looking for shows to perform at in the San Francisco Bay Area!\",\n",
    "    \"image_link\": \"https://images.unsplash.com/photo-1549213783-8284d0336c4f?ixlib=rb-1.2.1&ixid=eyJhcHBfaWQiOjEyMDd9&auto=format&fit=crop&w=300&q=80\"\n",
    "    },\n",
    "    {\n",
    "    \"name\": \"Old Town Road\",\n",
    "    \"genres\": [\"Folk\"],\n",
    "    \"city\": \"Scottsdale\",\n",
    "    \"state\": \"AZ\",\n",
    "    \"phone\": \"111-111-1111\",\n",
    "    \"website\": \"https://www.oldtownroad.com\",\n",
    "    \"facebook_link\": \"https://www.facebook.com/OldTownRoad\",\n",
    "    \"seeking_venue\": True,\n",
    "    \"seeking_description\": \"Looking for shows to perform at in the Phoenix Area!\",\n",
    "    \"image_link\": \"https://www.google.com/url?sa=i&url=https%3A%2F%2Fwww.detroitnews.com%2Fstory%2Fentertainment%2F2019%2F07%2F19%2Fgraham-old-town-road-rides-into-history-books%2F1768616001%2F&psig=AOvVaw1dLShP1VpNNZ47HgzNPAo9&ust=1608184340837000&source=images&cd=vfe&ved=0CAIQjRxqFwoTCKj6-9jn0e0CFQAAAAAdAAAAABAD\"\n",
    "    },\n",
    "    {\n",
    "    \"name\": \"Artist 1\",\n",
    "    \"genres\": [\"Folk\", \"Instrumental\"],\n",
    "    \"city\": \"Seattle\",\n",
    "    \"state\": \"WA\",\n",
    "    \"phone\": \"222-111-1111\",\n",
    "    \"website\": \"https://www.artist1.com\",\n",
    "    \"facebook_link\": \"https://www.facebook.com/Artist1\",\n",
    "    \"seeking_venue\": True,\n",
    "    \"seeking_description\": \"Looking for shows to perform at in the Seattle Area!\",\n",
    "    \"image_link\": \"https://www.google.com/imgres?imgurl=https%3A%2F%2Fwww.seattlemag.com%2Fsites%2Fdefault%2Ffiles%2Ffield%2Fimage%2F1212bestnewbandstomten.jpg&imgrefurl=https%3A%2F%2Fwww.seattlemag.com%2Farticle%2Fbest-new-seattle-bands-2012&tbnid=O9s9wYw85iltDM&vet=12ahUKEwjq3dLI69PtAhUYq54KHVgrCqAQMygBegUIARCmAQ..i&docid=ex1oxfZuqllO7M&w=619&h=411&q=seattle%20band&ved=2ahUKEwjq3dLI69PtAhUYq54KHVgrCqAQMygBegUIARCmAQ\"\n",
    "    },\n",
    "    {\n",
    "    \"name\": \"Artist 2\",\n",
    "    \"genres\": [\"Pop\", \"Punk\"],\n",
    "    \"city\": \"Seattle\",\n",
    "    \"state\": \"WA\",\n",
    "    \"phone\": \"333-111-1111\",\n",
    "    \"website\": \"https://www.artist2.com\",\n",
    "    \"facebook_link\": \"https://www.facebook.com/Artist2\",\n",
    "    \"seeking_venue\": True,\n",
    "    \"seeking_description\": \"Looking for shows to perform at in the Seattle Area!\",\n",
    "    \"image_link\": \"https://www.google.com/imgres?imgurl=https%3A%2F%2Fstatic.seattletimes.com%2Fwp-content%2Fuploads%2F2016%2F03%2Fbf8a0668-f2b8-11e5-8790-5234aa2fd9ed-1020x695.jpg&imgrefurl=https%3A%2F%2Fwww.seattletimes.com%2Fentertainment%2Fmusic%2Fseattles-new-feminist-punk-with-a-smirk%2F&tbnid=T9dyuPACmo9W4M&vet=12ahUKEwjq3dLI69PtAhUYq54KHVgrCqAQMygKegUIARC5AQ..i&docid=OTW377xSE0EgyM&w=1020&h=695&q=seattle%20band&ved=2ahUKEwjq3dLI69PtAhUYq54KHVgrCqAQMygKegUIARC5AQ\"\n",
    "    },   \n",
    "]"
   ]
  },
  {
   "cell_type": "code",
   "execution_count": 9,
   "metadata": {},
   "outputs": [],
   "source": [
    "# for artist_info in artist_data:\n",
    "#     artist = Artist(name=artist_info['name'], \n",
    "#                     genres=','.join(artist_info['genres']),\n",
    "#                     city=artist_info['city'],\n",
    "#                     state=artist_info['state'],\n",
    "#                     phone=artist_info['phone'],\n",
    "#                     website=artist_info['website'],\n",
    "#                     facebook_link=artist_info['facebook_link'],\n",
    "#                     seeking_venue=artist_info['seeking_venue'],\n",
    "#                     seeking_description=artist_info['seeking_description'],\n",
    "#                     image_link=artist_info['image_link'],\n",
    "#                    )\n",
    "#     db.session.add(artist)\n",
    "\n",
    "# try:\n",
    "#     db.session.commit()\n",
    "# except:\n",
    "#     db.session.rollback()\n",
    "#     print('error')\n",
    "# finally:\n",
    "#     db.session.close()"
   ]
  },
  {
   "cell_type": "markdown",
   "metadata": {},
   "source": [
    "Venue"
   ]
  },
  {
   "cell_type": "code",
   "execution_count": 13,
   "metadata": {},
   "outputs": [],
   "source": [
    "venue_data = [\n",
    "    {\n",
    "    \"name\": \"The Musical Hop\",\n",
    "    \"genres\": [\"Jazz\", \"Reggae\", \"Swing\", \"Classical\", \"Folk\"],\n",
    "    \"address\": \"1015 Folsom Street\",\n",
    "    \"city\": \"San Francisco\",\n",
    "    \"state\": \"CA\",\n",
    "    \"phone\": \"123-123-1234\",\n",
    "    \"website\": \"https://www.themusicalhop.com\",\n",
    "    \"facebook_link\": \"https://www.facebook.com/TheMusicalHop\",\n",
    "    \"seeking_talent\": True,\n",
    "    \"seeking_description\": \"We are on the lookout for a local artist to play every two weeks. Please call us.\",\n",
    "    \"image_link\": \"https://images.unsplash.com/photo-1543900694-133f37abaaa5?ixlib=rb-1.2.1&ixid=eyJhcHBfaWQiOjEyMDd9&auto=format&fit=crop&w=400&q=60\"\n",
    "    },\n",
    "    {\n",
    "    \"name\": \"Old Town Scottsdale\",\n",
    "    \"genres\": [\"Jazz\", \"Country\", \"Classical\", \"Folk\"],\n",
    "    \"address\": \"111 Scottsdale Road\",\n",
    "    \"city\": \"Scottsdale\",\n",
    "    \"state\": \"AZ\",\n",
    "    \"phone\": \"223-223-2234\",\n",
    "    \"website\": \"https://www.oldtownscottsdale.com\",\n",
    "    \"facebook_link\": \"https://www.facebook.com/OldTownScottsdale\",\n",
    "    \"seeking_talent\": True,\n",
    "    \"seeking_description\": \"We are on the lookout for a local artist to play every week. Please call us.\",\n",
    "    \"image_link\": \"https://www.google.com/url?sa=i&url=https%3A%2F%2Fwww.experiencescottsdale.com%2Fstories%2Fpost%2Fold-town-nightlife-hot-spots%2F&psig=AOvVaw2cDOHN7UDCIkk1pY6RSJlf&ust=1608185430939000&source=images&cd=vfe&ved=0CAIQjRxqFwoTCPCfiN7r0e0CFQAAAAAdAAAAABAD\"\n",
    "    },\n",
    "    {\n",
    "    \"name\": \"The Culinary Dropout\",\n",
    "    \"genres\": [\"Blues\", \"Classical\", \"Electronic\"],\n",
    "    \"address\": \"123 Rio Salado Pkwy\",\n",
    "    \"city\": \"Tempe\",\n",
    "    \"state\": \"AZ\",\n",
    "    \"phone\": \"323-323-2234\",\n",
    "    \"website\": \"https://www.theculinarydropout.com\",\n",
    "    \"facebook_link\": \"https://www.facebook.com/TheCulinaryDropout\",\n",
    "    \"seeking_talent\": True,\n",
    "    \"seeking_description\": \"We are on the lookout for a local artist to play every week. Please call us.\",\n",
    "    \"image_link\": \"https://www.google.com/url?sa=i&url=https%3A%2F%2Fazbigmedia.com%2Flifestyle%2Fexperience-arizona%2Ftempe-town-lake-gets-half-mile-longer-for-boaters%2F&psig=AOvVaw2uMBGeCusK5DajD2T2h0TP&ust=1608185609462000&source=images&cd=vfe&ved=0CAIQjRxqFwoTCKCf-7Ps0e0CFQAAAAAdAAAAABAD\"\n",
    "    },\n",
    "    {\n",
    "    \"name\": \"Rain In Seattle\",\n",
    "    \"genres\": [\"Pop\", \"Punk\", \"Electronic\", \"Blues\", \"Instrumental\"],\n",
    "    \"address\": \"1517 Pike Pl\",\n",
    "    \"city\": \"Seattle\",\n",
    "    \"state\": \"WA\",\n",
    "    \"phone\": \"444-323-2234\",\n",
    "    \"website\": \"https://www.raininseattle.com\",\n",
    "    \"facebook_link\": \"https://www.facebook.com/RainInSeattle\",\n",
    "    \"seeking_talent\": True,\n",
    "    \"seeking_description\": \"We are on the lookout for a local artist to play every week. Please call us.\",\n",
    "    \"image_link\": \"https://www.google.com/url?sa=i&url=https%3A%2F%2Fsantorinidave.com%2Fseattle-bars&psig=AOvVaw3b4GwxuxP9MC5DX-Iyc2Um&ust=1608254294496000&source=images&cd=vfe&ved=0CAIQjRxqFwoTCPCq_67s0-0CFQAAAAAdAAAAABAD\"\n",
    "    },\n",
    "]"
   ]
  },
  {
   "cell_type": "code",
   "execution_count": 14,
   "metadata": {},
   "outputs": [],
   "source": [
    "# for venue_info in venue_data:\n",
    "#     venue = Venue(name=venue_info['name'], \n",
    "#                   genres=','.join(venue_info['genres']),\n",
    "#                   address=venue_info['address'],  \n",
    "#                   city=venue_info['city'],\n",
    "#                   state=venue_info['state'],\n",
    "#                   phone=venue_info['phone'],\n",
    "#                   website=venue_info['website'],\n",
    "#                   facebook_link=venue_info['facebook_link'],\n",
    "#                   seeking_talent=venue_info['seeking_talent'],\n",
    "#                   seeking_description=venue_info['seeking_description'],\n",
    "#                   image_link=venue_info['image_link'])\n",
    "#     db.session.add(venue)\n",
    "\n",
    "# try:\n",
    "#     db.session.commit()\n",
    "# except:\n",
    "#     db.session.rollback()\n",
    "#     print('error')\n",
    "# finally:\n",
    "#     db.session.close()"
   ]
  },
  {
   "cell_type": "markdown",
   "metadata": {},
   "source": [
    "Show"
   ]
  },
  {
   "cell_type": "code",
   "execution_count": 2,
   "metadata": {},
   "outputs": [],
   "source": [
    "show_data = [{\n",
    "    \"venue_id\": 1,\n",
    "    \"artist_id\": 1,\n",
    "    \"start_time\": \"2019-05-21T21:30:00.000Z\"\n",
    "  }, {\n",
    "    \"venue_id\": 2,\n",
    "    \"artist_id\": 2,\n",
    "    \"start_time\": \"2019-06-15T23:00:00.000Z\"\n",
    "  }, {\n",
    "    \"venue_id\": 3,\n",
    "    \"artist_id\": 2,\n",
    "    \"start_time\": \"2035-04-01T20:00:00.000Z\"\n",
    "  }, {\n",
    "    \"venue_id\": 4,\n",
    "    \"artist_id\": 4,\n",
    "    \"start_time\": \"2035-04-08T20:00:00.000Z\"\n",
    "  }, {\n",
    "    \"venue_id\": 4,\n",
    "    \"artist_id\": 3,\n",
    "    \"start_time\": \"2035-04-15T20:00:00.000Z\"\n",
    "  }]"
   ]
  },
  {
   "cell_type": "code",
   "execution_count": 3,
   "metadata": {},
   "outputs": [],
   "source": [
    "for show_info in show_data:\n",
    "    show = Show(start_time=show_info['start_time'],\n",
    "                venue_id=show_info['venue_id'],\n",
    "                artist_id=show_info['artist_id'])\n",
    "    db.session.add(show)\n",
    "\n",
    "try:\n",
    "    db.session.commit()\n",
    "except:\n",
    "    db.session.rollback()\n",
    "    print('error')\n",
    "finally:\n",
    "    db.session.close()"
   ]
  },
  {
   "cell_type": "code",
   "execution_count": 20,
   "metadata": {},
   "outputs": [
    {
     "data": {
      "text/plain": [
       "[<Show 1 (Artist 1 at Venue 1)>,\n",
       " <Show 2 (Artist 2 at Venue 2)>,\n",
       " <Show 3 (Artist 2 at Venue 3)>,\n",
       " <Show 4 (Artist 4 at Venue 4)>,\n",
       " <Show 5 (Artist 3 at Venue 4)>,\n",
       " <Show 6 (Artist 4 at Venue 1)>]"
      ]
     },
     "execution_count": 20,
     "metadata": {},
     "output_type": "execute_result"
    }
   ],
   "source": [
    "shows = Show.query.all()\n",
    "shows"
   ]
  },
  {
   "cell_type": "code",
   "execution_count": 2,
   "metadata": {},
   "outputs": [],
   "source": [
    "artists = Artist.query.all()"
   ]
  },
  {
   "cell_type": "code",
   "execution_count": 3,
   "metadata": {},
   "outputs": [
    {
     "data": {
      "text/plain": [
       "[<Artist 1 (Guns N Petals)>,\n",
       " <Artist 2 (Old Town Road)>,\n",
       " <Artist 3 (Artist 1)>,\n",
       " <Artist 4 (Artist 2)>]"
      ]
     },
     "execution_count": 3,
     "metadata": {},
     "output_type": "execute_result"
    }
   ],
   "source": [
    "artists"
   ]
  },
  {
   "cell_type": "code",
   "execution_count": 7,
   "metadata": {},
   "outputs": [
    {
     "data": {
      "text/plain": [
       "[<Venue 1 (The Musical Hop)>,\n",
       " <Venue 2 (Old Town Scottsdale)>,\n",
       " <Venue 3 (The Culinary Dropout)>,\n",
       " <Venue 4 (Rain In Seattle)>]"
      ]
     },
     "execution_count": 7,
     "metadata": {},
     "output_type": "execute_result"
    }
   ],
   "source": [
    "venues = Venue.query.all()\n",
    "venues"
   ]
  },
  {
   "cell_type": "code",
   "execution_count": 3,
   "metadata": {},
   "outputs": [],
   "source": [
    "venue_id = '4'"
   ]
  },
  {
   "cell_type": "code",
   "execution_count": 4,
   "metadata": {},
   "outputs": [],
   "source": [
    "selected_venue = Venue.query.get(venue_id)\n",
    "shows = Show.query.all()\n",
    "artists = Artist.query.all()\n",
    "\n",
    "past_shows = util.list_past_shows(venue_id, shows)\n",
    "past_shows_list = [util.format_show_info(show, artists) for show in past_shows]\n",
    "\n",
    "upcoming_shows = util.list_upcoming_shows(venue_id, shows)\n",
    "upcoming_shows_list = [util.format_show_info(show, artists) for show in upcoming_shows]\n",
    "\n",
    "data = {\n",
    "    \"id\": selected_venue.id,\n",
    "    \"name\": selected_venue.name,\n",
    "    \"genres\": selected_venue.genres.split(','),\n",
    "    \"address\": selected_venue.address,\n",
    "    \"city\": selected_venue.city,\n",
    "    \"state\": selected_venue.state,\n",
    "    \"phone\": selected_venue.phone,\n",
    "    \"website\": selected_venue.website,\n",
    "    \"facebook_link\": selected_venue.facebook_link,\n",
    "    \"seeking_talent\": selected_venue.seeking_talent,\n",
    "    \"seeking_description\": selected_venue.seeking_description,\n",
    "    \"image_link\": selected_venue.image_link,\n",
    "    \"past_shows\": [past_shows_list],\n",
    "    \"upcoming_shows\": [upcoming_shows_list],\n",
    "    \"past_shows_count\": len(past_shows),\n",
    "    \"upcoming_shows_count\": len(upcoming_shows),\n",
    "    }"
   ]
  },
  {
   "cell_type": "code",
   "execution_count": 5,
   "metadata": {},
   "outputs": [
    {
     "data": {
      "text/plain": [
       "{'id': 4,\n",
       " 'name': 'Rain In Seattle',\n",
       " 'genres': ['Pop', 'Punk', 'Electronic', 'Blues', 'Instrumental'],\n",
       " 'address': '1517 Pike Pl',\n",
       " 'city': 'Seattle',\n",
       " 'state': 'WA',\n",
       " 'phone': '444-323-2234',\n",
       " 'website': 'https://www.raininseattle.com',\n",
       " 'facebook_link': 'https://www.facebook.com/RainInSeattle',\n",
       " 'seeking_talent': True,\n",
       " 'seeking_description': 'We are on the lookout for a local artist to play every week. Please call us.',\n",
       " 'image_link': 'https://www.google.com/url?sa=i&url=https%3A%2F%2Fsantorinidave.com%2Fseattle-bars&psig=AOvVaw3b4GwxuxP9MC5DX-Iyc2Um&ust=1608254294496000&source=images&cd=vfe&ved=0CAIQjRxqFwoTCPCq_67s0-0CFQAAAAAdAAAAABAD',\n",
       " 'past_shows': [[]],\n",
       " 'upcoming_shows': [[]],\n",
       " 'past_shows_count': 0,\n",
       " 'upcoming_shows_count': 0}"
      ]
     },
     "execution_count": 5,
     "metadata": {},
     "output_type": "execute_result"
    }
   ],
   "source": [
    "data"
   ]
  },
  {
   "cell_type": "code",
   "execution_count": null,
   "metadata": {},
   "outputs": [],
   "source": []
  }
 ],
 "metadata": {
  "kernelspec": {
   "display_name": "Python 3",
   "language": "python",
   "name": "python3"
  },
  "language_info": {
   "codemirror_mode": {
    "name": "ipython",
    "version": 3
   },
   "file_extension": ".py",
   "mimetype": "text/x-python",
   "name": "python",
   "nbconvert_exporter": "python",
   "pygments_lexer": "ipython3",
   "version": "3.6.10"
  }
 },
 "nbformat": 4,
 "nbformat_minor": 4
}
